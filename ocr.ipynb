{
 "cells": [
  {
   "cell_type": "code",
   "execution_count": 1,
   "source": [
    "# Install pytorch\r\n",
    "#https://pytorch.org/get-started/locally/\r\n",
    "# Install easyocr \r\n",
    "!pip install easyocr"
   ],
   "outputs": [
    {
     "output_type": "stream",
     "name": "stdout",
     "text": [
      "Collecting easyocr\n",
      "  Downloading easyocr-1.4-py3-none-any.whl (63.6 MB)\n",
      "Collecting torch\n",
      "  Downloading torch-1.9.0-cp39-cp39-win_amd64.whl (222.0 MB)\n",
      "Collecting python-bidi\n",
      "  Downloading python_bidi-0.4.2-py2.py3-none-any.whl (30 kB)\n",
      "Collecting torchvision>=0.5\n",
      "  Downloading torchvision-0.10.0-cp39-cp39-win_amd64.whl (920 kB)\n",
      "Collecting scikit-image\n",
      "  Downloading scikit_image-0.18.2-cp39-cp39-win_amd64.whl (12.2 MB)\n",
      "Collecting opencv-python\n",
      "  Downloading opencv_python-4.5.3.56-cp39-cp39-win_amd64.whl (34.9 MB)\n",
      "Requirement already satisfied: scipy in c:\\users\\kalcala\\appdata\\local\\programs\\python\\python39\\lib\\site-packages (from easyocr) (1.6.1)\n",
      "Requirement already satisfied: numpy in c:\\users\\kalcala\\appdata\\local\\programs\\python\\python39\\lib\\site-packages (from easyocr) (1.19.5)\n",
      "Requirement already satisfied: Pillow in c:\\users\\kalcala\\appdata\\local\\programs\\python\\python39\\lib\\site-packages (from easyocr) (8.1.2)\n",
      "Collecting PyYAML\n",
      "  Downloading PyYAML-5.4.1-cp39-cp39-win_amd64.whl (213 kB)\n",
      "Requirement already satisfied: typing-extensions in c:\\users\\kalcala\\appdata\\local\\programs\\python\\python39\\lib\\site-packages (from torch->easyocr) (3.7.4.3)\n",
      "Requirement already satisfied: six in c:\\users\\kalcala\\appdata\\local\\programs\\python\\python39\\lib\\site-packages (from python-bidi->easyocr) (1.15.0)\n",
      "Collecting PyWavelets>=1.1.1\n",
      "  Downloading PyWavelets-1.1.1-cp39-cp39-win_amd64.whl (4.2 MB)\n",
      "Collecting imageio>=2.3.0\n",
      "  Downloading imageio-2.9.0-py3-none-any.whl (3.3 MB)\n",
      "Collecting networkx>=2.0\n",
      "  Downloading networkx-2.5.1-py3-none-any.whl (1.6 MB)\n",
      "Requirement already satisfied: matplotlib!=3.0.0,>=2.0.0 in c:\\users\\kalcala\\appdata\\local\\programs\\python\\python39\\lib\\site-packages (from scikit-image->easyocr) (3.3.4)\n",
      "Collecting tifffile>=2019.7.26\n",
      "  Downloading tifffile-2021.7.2-py3-none-any.whl (169 kB)\n",
      "Requirement already satisfied: python-dateutil>=2.1 in c:\\users\\kalcala\\appdata\\local\\programs\\python\\python39\\lib\\site-packages (from matplotlib!=3.0.0,>=2.0.0->scikit-image->easyocr) (2.8.1)\n",
      "Requirement already satisfied: pyparsing!=2.0.4,!=2.1.2,!=2.1.6,>=2.0.3 in c:\\users\\kalcala\\appdata\\local\\programs\\python\\python39\\lib\\site-packages (from matplotlib!=3.0.0,>=2.0.0->scikit-image->easyocr) (2.4.7)\n",
      "Requirement already satisfied: kiwisolver>=1.0.1 in c:\\users\\kalcala\\appdata\\local\\programs\\python\\python39\\lib\\site-packages (from matplotlib!=3.0.0,>=2.0.0->scikit-image->easyocr) (1.3.1)\n",
      "Requirement already satisfied: cycler>=0.10 in c:\\users\\kalcala\\appdata\\local\\programs\\python\\python39\\lib\\site-packages (from matplotlib!=3.0.0,>=2.0.0->scikit-image->easyocr) (0.10.0)\n",
      "Requirement already satisfied: decorator<5,>=4.3 in c:\\users\\kalcala\\appdata\\local\\programs\\python\\python39\\lib\\site-packages (from networkx>=2.0->scikit-image->easyocr) (4.4.2)\n",
      "Installing collected packages: torch, tifffile, PyWavelets, networkx, imageio, torchvision, scikit-image, PyYAML, python-bidi, opencv-python, easyocr\n",
      "Successfully installed PyWavelets-1.1.1 PyYAML-5.4.1 easyocr-1.4 imageio-2.9.0 networkx-2.5.1 opencv-python-4.5.3.56 python-bidi-0.4.2 scikit-image-0.18.2 tifffile-2021.7.2 torch-1.9.0 torchvision-0.10.0\n"
     ]
    },
    {
     "output_type": "stream",
     "name": "stderr",
     "text": [
      "WARNING: You are using pip version 21.0.1; however, version 21.1.3 is available.\n",
      "You should consider upgrading via the 'c:\\users\\kalcala\\appdata\\local\\programs\\python\\python39\\python.exe -m pip install --upgrade pip' command.\n"
     ]
    }
   ],
   "metadata": {}
  },
  {
   "cell_type": "code",
   "execution_count": 2,
   "source": [
    "import easyocr\r\n",
    "import cv2\r\n",
    "from matplotlib import pyplot as plt\r\n",
    "import numpy as np"
   ],
   "outputs": [],
   "metadata": {}
  },
  {
   "cell_type": "code",
   "execution_count": 7,
   "source": [
    "IMAGE_PATH = 'letras.png'\r\n",
    "IMAGE_PATH"
   ],
   "outputs": [
    {
     "output_type": "execute_result",
     "data": {
      "text/plain": [
       "'letras.png'"
      ]
     },
     "metadata": {},
     "execution_count": 7
    }
   ],
   "metadata": {}
  },
  {
   "cell_type": "code",
   "execution_count": 18,
   "source": [
    "reader = easyocr.Reader(['en'])\r\n",
    "result = reader.readtext(IMAGE_PATH)\r\n",
    "result"
   ],
   "outputs": [
    {
     "output_type": "stream",
     "name": "stderr",
     "text": [
      "CUDA not available - defaulting to CPU. Note: This module is much faster with a GPU.\n"
     ]
    },
    {
     "output_type": "execute_result",
     "data": {
      "text/plain": [
       "[([[30, 86], [192, 86], [192, 140], [30, 140]], 'STOP', 0.6353240609169006)]"
      ]
     },
     "metadata": {},
     "execution_count": 18
    }
   ],
   "metadata": {}
  },
  {
   "cell_type": "code",
   "execution_count": 19,
   "source": [
    "img = cv2.imread(IMAGE_PATH)\r\n",
    "spacer = 75\r\n",
    "font = cv2.FONT_HERSHEY_SIMPLEX\r\n",
    "for detection in result: \r\n",
    "    top_left = tuple(detection[0][0])\r\n",
    "    bottom_right = tuple(detection[0][2])\r\n",
    "    text = detection[1]\r\n",
    "    img = cv2.rectangle(img,top_left,bottom_right,(0,255,0),3)\r\n",
    "    img = cv2.putText(img,text,top_left, font, 0.5,(255,255,255),2,cv2.LINE_AA)\r\n",
    "    spacer+=15\r\n",
    "    \r\n",
    "plt.imshow(img)\r\n",
    "plt.show()"
   ],
   "outputs": [
    {
     "output_type": "display_data",
     "data": {
      "text/plain": [
       "<Figure size 432x288 with 1 Axes>"
      ],
      "image/png": "[encoded data removed]"
     },
     "metadata": {
      "needs_background": "light"
     }
    }
   ],
   "metadata": {}
  }
 ],
 "metadata": {
  "orig_nbformat": 4,
  "language_info": {
   "name": "python",
   "version": "3.9.1",
   "mimetype": "text/x-python",
   "codemirror_mode": {
    "name": "ipython",
    "version": 3
   },
   "pygments_lexer": "ipython3",
   "nbconvert_exporter": "python",
   "file_extension": ".py"
  },
  "kernelspec": {
   "name": "python3",
   "display_name": "Python 3.9.1 64-bit"
  },
  "interpreter": {
   "hash": "077a78a19a48369c372f9b3065137e61c98c6f126360a94dafe49e5568412688"
  }
 },
 "nbformat": 4,
 "nbformat_minor": 2
}